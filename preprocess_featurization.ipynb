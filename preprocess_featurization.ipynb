{
 "cells": [
  {
   "cell_type": "code",
   "execution_count": 11,
   "id": "12a9c628",
   "metadata": {},
   "outputs": [
    {
     "name": "stdout",
     "output_type": "stream",
     "text": [
      "Loaded 1700 molecules after 2 attempts.\n"
     ]
    }
   ],
   "source": [
    "from rdkit.Chem import SDMolSupplier\n",
    "\n",
    "supplier = SDMolSupplier(\"coagulation.sdf\")\n",
    "mols, attempts = [], 0\n",
    "pic50 = [] \n",
    "\n",
    "while not mols and attempts < 10:\n",
    "    mols = list(supplier)\n",
    "    attempts += 1\n",
    "print(f\"Loaded {len(mols)} molecules after {attempts} attempts.\")\n",
    "\n"
   ]
  },
  {
   "cell_type": "code",
   "execution_count": 40,
   "id": "dc73639d",
   "metadata": {},
   "outputs": [],
   "source": [
    "from rdkit.Chem import Mol, rdMolDescriptors, AllChem\n",
    "from rdkit.Chem import Descriptors\n",
    "from rdkit import Chem\n",
    "import numpy as np\n",
    "\n",
    "descrip = np.zeros((len(mols), 15))\n",
    "i=0\n",
    "\n",
    "header = [\"molecular weight\",\n",
    "          \"LogP\",\n",
    "          \"number of rings\",\n",
    "          \"number of aliphatic carbocycles\",\n",
    "          \"number of aliphatic heterocycles\",\n",
    "          \"number of aromatic rings\",\n",
    "          \"topological polar surface area\",\n",
    "          \"NH and OH number\", \n",
    "          \"NO number\",\n",
    "          \"number of hydrogen acceptors\", \n",
    "          \"number of hydrogen donors\", \n",
    "          \"number of valence electrons\",\n",
    "          \"number of rotatable bonds\", \n",
    "          \"number of radical electrons\",\"pIC50\"]\n",
    "\n",
    "chemble_id = []\n",
    "for molec in mols:\n",
    "    chemble_id.append(molec.GetProp(\"ChEMBL_ID\"))\n",
    "    descrip[i, 0] = Descriptors.ExactMolWt(molec)\n",
    "    descrip[i, 1] = Chem.Crippen.MolLogP(molec)\n",
    "    descrip[i, 2] = Chem.Lipinski.RingCount(molec)\n",
    "    descrip[i, 3] = Chem.Lipinski.NumAliphaticCarbocycles(molec)\n",
    "    descrip[i, 4] = Chem.Lipinski.NumAliphaticHeterocycles(molec)\n",
    "    descrip[i, 5] = Chem.Lipinski.NumAromaticRings(molec)\n",
    "    descrip[i, 6] = Descriptors.TPSA(molec)\n",
    "    descrip[i, 7] = Chem.Lipinski.NHOHCount(molec)\n",
    "    descrip[i, 8] = Chem.Lipinski.NOCount(molec)\n",
    "    descrip[i, 9] = Chem.Lipinski.NumHAcceptors(molec)\n",
    "    descrip[i, 10] = Chem.Lipinski.NumHDonors(molec)\n",
    "    descrip[i, 11] = Descriptors.NumValenceElectrons(molec)\n",
    "    descrip[i, 12] = Chem.Lipinski.NumRotatableBonds(molec)\n",
    "    descrip[i, 13] = Descriptors.NumRadicalElectrons(molec)\n",
    "    descrip[i, 14] = molec.GetProp(\"pIC50\")\n",
    "    i+=1\n",
    "\n",
    "\n",
    "\n"
   ]
  },
  {
   "cell_type": "code",
   "execution_count": 28,
   "id": "3535dbfc",
   "metadata": {},
   "outputs": [
    {
     "data": {
      "text/plain": [
       "(1700, 15)"
      ]
     },
     "execution_count": 28,
     "metadata": {},
     "output_type": "execute_result"
    }
   ],
   "source": [
    "descrip.shape"
   ]
  },
  {
   "cell_type": "code",
   "execution_count": 41,
   "id": "e7f89907",
   "metadata": {},
   "outputs": [
    {
     "data": {
      "text/plain": [
       "15"
      ]
     },
     "execution_count": 41,
     "metadata": {},
     "output_type": "execute_result"
    }
   ],
   "source": [
    "len(header)"
   ]
  },
  {
   "cell_type": "code",
   "execution_count": 46,
   "id": "f513d8e8",
   "metadata": {},
   "outputs": [],
   "source": [
    "import pandas as pd\n",
    "\n",
    "coagulation = pd.DataFrame(data=descrip,index = chemble_id, columns= header)\n",
    "coagulation.to_csv(\"coagulation.csv\")"
   ]
  },
  {
   "cell_type": "code",
   "execution_count": null,
   "id": "bafa9eb0",
   "metadata": {},
   "outputs": [],
   "source": []
  }
 ],
 "metadata": {
  "kernelspec": {
   "display_name": "Python 3",
   "language": "python",
   "name": "python3"
  },
  "language_info": {
   "codemirror_mode": {
    "name": "ipython",
    "version": 3
   },
   "file_extension": ".py",
   "mimetype": "text/x-python",
   "name": "python",
   "nbconvert_exporter": "python",
   "pygments_lexer": "ipython3",
   "version": "3.6.13"
  }
 },
 "nbformat": 4,
 "nbformat_minor": 5
}
